{
 "cells": [
  {
   "cell_type": "markdown",
   "metadata": {},
   "source": [
    "## Visualizing Spatial Data with Pandas and Bokeh"
   ]
  },
  {
   "cell_type": "markdown",
   "metadata": {},
   "source": [
    "[bokeh](http://bokeh.pydata.org/en/latest/) is a relatively new JavaScript visualization language for Python that is modeled after D3 but is intended to be able to handle millions of data points.\n",
    "\n",
    ">Bokeh is a Python interactive visualization library that targets modern web browsers for presentation. Its goal is to provide elegant, concise construction of novel graphics in the style of D3.js, and to extend this capability with high-performance interactivity over very large or streaming datasets. Bokeh can help anyone who would like to quickly and easily create interactive plots, dashboards, and data applications. ([Bokeh Website](http://bokeh.pydata.org/en/latest/))\n",
    "\n",
    "The advantage of Bokeh over matplotlib is that the visualizations can be interactive (via the JavaScript).\n",
    "\n",
    "From the U.K. accident data, we can plot the location of accidents for which latitude and longitude values are provided."
   ]
  },
  {
   "cell_type": "code",
   "execution_count": 12,
   "metadata": {},
   "outputs": [
    {
     "name": "stdout",
     "output_type": "stream",
     "text": [
      "True\n"
     ]
    }
   ],
   "source": [
    "import os\n",
    "import sqlite3 as sqlite\n",
    "DATADIR = os.path.join(os.path.expanduser(\"~\"),\"DATA\",\n",
    "                       \"Misc\")\n",
    "print(os.path.exists(DATADIR))\n",
    "import pandas as pd\n",
    "import numpy as np\n",
    "import folium"
   ]
  },
  {
   "cell_type": "code",
   "execution_count": null,
   "metadata": {},
   "outputs": [],
   "source": [
    "from bokeh.io import output_notebook"
   ]
  },
  {
   "cell_type": "code",
   "execution_count": 2,
   "metadata": {},
   "outputs": [
    {
     "name": "stderr",
     "output_type": "stream",
     "text": [
      "/opt/conda/lib/python3.5/site-packages/IPython/core/interactiveshell.py:2785: DtypeWarning: Columns (31) have mixed types. Specify dtype option on import or set low_memory=False.\n",
      "  interactivity=interactivity, compiler=compiler, result=result)\n"
     ]
    }
   ],
   "source": [
    "data = pd.read_csv(os.path.join(DATADIR,\n",
    "                               \"Accidents7904.csv\"),\n",
    "                  skiprows = lambda index: index > 0 and index <= 4883216)"
   ]
  },
  {
   "cell_type": "code",
   "execution_count": null,
   "metadata": {},
   "outputs": [],
   "source": []
  },
  {
   "cell_type": "markdown",
   "metadata": {},
   "source": [
    "### This enables drawing directly in the notebook"
   ]
  },
  {
   "cell_type": "code",
   "execution_count": null,
   "metadata": {},
   "outputs": [],
   "source": [
    "output_notebook()"
   ]
  },
  {
   "cell_type": "markdown",
   "metadata": {},
   "source": [
    "### Read in the data"
   ]
  },
  {
   "cell_type": "code",
   "execution_count": 8,
   "metadata": {},
   "outputs": [
    {
     "data": {
      "text/html": [
       "<div>\n",
       "<style scoped>\n",
       "    .dataframe tbody tr th:only-of-type {\n",
       "        vertical-align: middle;\n",
       "    }\n",
       "\n",
       "    .dataframe tbody tr th {\n",
       "        vertical-align: top;\n",
       "    }\n",
       "\n",
       "    .dataframe thead th {\n",
       "        text-align: right;\n",
       "    }\n",
       "</style>\n",
       "<table border=\"1\" class=\"dataframe\">\n",
       "  <thead>\n",
       "    <tr style=\"text-align: right;\">\n",
       "      <th></th>\n",
       "      <th>Longitude</th>\n",
       "      <th>Latitude</th>\n",
       "      <th>Number_of_Casualties</th>\n",
       "      <th>Date</th>\n",
       "      <th>Time</th>\n",
       "    </tr>\n",
       "  </thead>\n",
       "  <tbody>\n",
       "    <tr>\n",
       "      <th>0</th>\n",
       "      <td>-0.271752</td>\n",
       "      <td>51.715661</td>\n",
       "      <td>1</td>\n",
       "      <td>25/12/1999</td>\n",
       "      <td>09:30</td>\n",
       "    </tr>\n",
       "    <tr>\n",
       "      <th>1</th>\n",
       "      <td>-0.239977</td>\n",
       "      <td>51.695136</td>\n",
       "      <td>1</td>\n",
       "      <td>17/12/1999</td>\n",
       "      <td>18:38</td>\n",
       "    </tr>\n",
       "    <tr>\n",
       "      <th>2</th>\n",
       "      <td>-0.270037</td>\n",
       "      <td>51.715096</td>\n",
       "      <td>2</td>\n",
       "      <td>15/12/1999</td>\n",
       "      <td>18:04</td>\n",
       "    </tr>\n",
       "    <tr>\n",
       "      <th>3</th>\n",
       "      <td>-0.263233</td>\n",
       "      <td>51.711309</td>\n",
       "      <td>1</td>\n",
       "      <td>02/12/1999</td>\n",
       "      <td>04:10</td>\n",
       "    </tr>\n",
       "    <tr>\n",
       "      <th>4</th>\n",
       "      <td>-0.227225</td>\n",
       "      <td>51.688200</td>\n",
       "      <td>3</td>\n",
       "      <td>04/12/1999</td>\n",
       "      <td>09:51</td>\n",
       "    </tr>\n",
       "  </tbody>\n",
       "</table>\n",
       "</div>"
      ],
      "text/plain": [
       "   Longitude   Latitude  Number_of_Casualties        Date   Time\n",
       "0  -0.271752  51.715661                     1  25/12/1999  09:30\n",
       "1  -0.239977  51.695136                     1  17/12/1999  18:38\n",
       "2  -0.270037  51.715096                     2  15/12/1999  18:04\n",
       "3  -0.263233  51.711309                     1  02/12/1999  04:10\n",
       "4  -0.227225  51.688200                     3  04/12/1999  09:51"
      ]
     },
     "execution_count": 8,
     "metadata": {},
     "output_type": "execute_result"
    }
   ],
   "source": [
    "data = pd.read_csv(os.path.join(DATADIR,\n",
    "                         \"Accidents7904.csv\"),\n",
    "                   usecols = ['Longitude',\"Latitude\",\"Date\",\"Time\",\"Number_of_Casualties\"],\n",
    "                  skiprows = lambda index: index > 0 and index <= 4883216)\n",
    "data.head()"
   ]
  },
  {
   "cell_type": "code",
   "execution_count": 4,
   "metadata": {},
   "outputs": [
    {
     "data": {
      "text/plain": [
       "Longitude               float64\n",
       "Latitude                float64\n",
       "Number_of_Casualties      int64\n",
       "Date                     object\n",
       "dtype: object"
      ]
     },
     "execution_count": 4,
     "metadata": {},
     "output_type": "execute_result"
    }
   ],
   "source": [
    "data.dtypes"
   ]
  },
  {
   "cell_type": "code",
   "execution_count": 9,
   "metadata": {},
   "outputs": [
    {
     "data": {
      "text/html": [
       "<div>\n",
       "<style scoped>\n",
       "    .dataframe tbody tr th:only-of-type {\n",
       "        vertical-align: middle;\n",
       "    }\n",
       "\n",
       "    .dataframe tbody tr th {\n",
       "        vertical-align: top;\n",
       "    }\n",
       "\n",
       "    .dataframe thead th {\n",
       "        text-align: right;\n",
       "    }\n",
       "</style>\n",
       "<table border=\"1\" class=\"dataframe\">\n",
       "  <thead>\n",
       "    <tr style=\"text-align: right;\">\n",
       "      <th></th>\n",
       "      <th>Longitude</th>\n",
       "      <th>Latitude</th>\n",
       "      <th>Number_of_Casualties</th>\n",
       "      <th>Date</th>\n",
       "      <th>Time</th>\n",
       "    </tr>\n",
       "  </thead>\n",
       "  <tbody>\n",
       "    <tr>\n",
       "      <th>0</th>\n",
       "      <td>-0.271752</td>\n",
       "      <td>51.715661</td>\n",
       "      <td>1</td>\n",
       "      <td>25/12/1999</td>\n",
       "      <td>09:30</td>\n",
       "    </tr>\n",
       "    <tr>\n",
       "      <th>1</th>\n",
       "      <td>-0.239977</td>\n",
       "      <td>51.695136</td>\n",
       "      <td>1</td>\n",
       "      <td>17/12/1999</td>\n",
       "      <td>18:38</td>\n",
       "    </tr>\n",
       "    <tr>\n",
       "      <th>2</th>\n",
       "      <td>-0.270037</td>\n",
       "      <td>51.715096</td>\n",
       "      <td>2</td>\n",
       "      <td>15/12/1999</td>\n",
       "      <td>18:04</td>\n",
       "    </tr>\n",
       "    <tr>\n",
       "      <th>3</th>\n",
       "      <td>-0.263233</td>\n",
       "      <td>51.711309</td>\n",
       "      <td>1</td>\n",
       "      <td>02/12/1999</td>\n",
       "      <td>04:10</td>\n",
       "    </tr>\n",
       "    <tr>\n",
       "      <th>4</th>\n",
       "      <td>-0.227225</td>\n",
       "      <td>51.688200</td>\n",
       "      <td>3</td>\n",
       "      <td>04/12/1999</td>\n",
       "      <td>09:51</td>\n",
       "    </tr>\n",
       "  </tbody>\n",
       "</table>\n",
       "</div>"
      ],
      "text/plain": [
       "   Longitude   Latitude  Number_of_Casualties        Date   Time\n",
       "0  -0.271752  51.715661                     1  25/12/1999  09:30\n",
       "1  -0.239977  51.695136                     1  17/12/1999  18:38\n",
       "2  -0.270037  51.715096                     2  15/12/1999  18:04\n",
       "3  -0.263233  51.711309                     1  02/12/1999  04:10\n",
       "4  -0.227225  51.688200                     3  04/12/1999  09:51"
      ]
     },
     "execution_count": 9,
     "metadata": {},
     "output_type": "execute_result"
    }
   ],
   "source": [
    "data2 = data.dropna()\n",
    "data2.head()"
   ]
  },
  {
   "cell_type": "markdown",
   "metadata": {},
   "source": [
    "####  We can use the [``sample``](http://pandas.pydata.org/pandas-docs/stable/generated/pandas.DataFrame.sample.html) method to get a subset of DataFrame"
   ]
  },
  {
   "cell_type": "code",
   "execution_count": 7,
   "metadata": {},
   "outputs": [
    {
     "name": "stdout",
     "output_type": "stream",
     "text": [
      "09:30:00\n"
     ]
    }
   ],
   "source": [
    "from datetime import datetime\n",
    "tmp = datetime.strptime(\"09:30\", \"%H:%M\")\n",
    "print(tmp.time())"
   ]
  },
  {
   "cell_type": "code",
   "execution_count": 13,
   "metadata": {},
   "outputs": [],
   "source": []
  },
  {
   "cell_type": "markdown",
   "metadata": {},
   "source": []
  },
  {
   "cell_type": "code",
   "execution_count": 10,
   "metadata": {},
   "outputs": [
    {
     "name": "stderr",
     "output_type": "stream",
     "text": [
      "/opt/conda/lib/python3.5/site-packages/ipykernel_launcher.py:2: SettingWithCopyWarning: \n",
      "A value is trying to be set on a copy of a slice from a DataFrame.\n",
      "Try using .loc[row_indexer,col_indexer] = value instead\n",
      "\n",
      "See the caveats in the documentation: http://pandas.pydata.org/pandas-docs/stable/indexing.html#indexing-view-versus-copy\n",
      "  \n"
     ]
    }
   ],
   "source": [
    "data2[\"Time\"] = data2.apply(lambda row: datetime.strptime(row[\"Time\"],\"%H:%M\").time(),\n",
    "                                                         axis=1)"
   ]
  },
  {
   "cell_type": "code",
   "execution_count": null,
   "metadata": {},
   "outputs": [],
   "source": [
    "subdata = data.sample(2000)\n",
    "mean_long = np.mean(subdata['Longitude'])\n",
    "mean_lat  = np.mean(subdata['Latitude'])\n"
   ]
  },
  {
   "cell_type": "code",
   "execution_count": null,
   "metadata": {},
   "outputs": [],
   "source": []
  },
  {
   "cell_type": "code",
   "execution_count": null,
   "metadata": {},
   "outputs": [],
   "source": [
    "from bokeh.io import output_file, show\n",
    "from bokeh.models import (\n",
    "  GMapPlot, GMapOptions, ColumnDataSource, Circle, DataRange1d, \n",
    "    PanTool, WheelZoomTool, BoxSelectTool, HoverTool\n",
    ")\n",
    "\n",
    "hover = HoverTool()\n",
    "map_options = GMapOptions(lat=mean_lat, \n",
    "                          lng=mean_long, \n",
    "                          map_type=\"roadmap\", zoom=6)\n",
    "\n",
    "plot = GMapPlot(\n",
    "    x_range=DataRange1d(), \n",
    "    y_range=DataRange1d(), \n",
    "    map_options=map_options\n",
    ")\n",
    "plot.title.text = \"U.K. Road Accidents\"\n",
    "\n",
    "source = ColumnDataSource(\n",
    "    data=dict(\n",
    "        lat=subdata['Latitude'],\n",
    "        lon=subdata['Longitude'],\n",
    "    )\n",
    ")\n",
    "\n",
    "\n",
    "hover.tooltips.append(('index','$index'))\n",
    "circle = Circle(x=\"lon\", y=\"lat\", size=2, \n",
    "                fill_color=\"blue\", fill_alpha=0.8, \n",
    "                line_color=None)\n",
    "plot.add_glyph(source, circle)\n",
    "\n",
    "plot.add_tools(PanTool(),WheelZoomTool(), BoxSelectTool(), hover)\n",
    "show(plot)"
   ]
  },
  {
   "cell_type": "code",
   "execution_count": null,
   "metadata": {},
   "outputs": [],
   "source": []
  }
 ],
 "metadata": {
  "kernelspec": {
   "display_name": "Python 3",
   "language": "python",
   "name": "python3"
  },
  "language_info": {
   "codemirror_mode": {
    "name": "ipython",
    "version": 3
   },
   "file_extension": ".py",
   "mimetype": "text/x-python",
   "name": "python",
   "nbconvert_exporter": "python",
   "pygments_lexer": "ipython3",
   "version": "3.5.5"
  }
 },
 "nbformat": 4,
 "nbformat_minor": 1
}
